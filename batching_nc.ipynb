{
 "cells": [
  {
   "cell_type": "code",
   "execution_count": 1,
   "id": "75acca3f-b3a3-4ee1-a4d8-9d037e8dae1d",
   "metadata": {},
   "outputs": [
    {
     "name": "stdout",
     "output_type": "stream",
     "text": [
      "Clipped dataset saved to C:\\Users\\gaurav.fouzdar\\New folder\\chirps-v2.0.1981.days_p05.nc\n",
      "Clipped dataset saved to C:\\Users\\gaurav.fouzdar\\New folder\\chirps-v2.0.1982.days_p05.nc\n",
      "Clipped dataset saved to C:\\Users\\gaurav.fouzdar\\New folder\\chirps-v2.0.1983.days_p05.nc\n",
      "Clipped dataset saved to C:\\Users\\gaurav.fouzdar\\New folder\\chirps-v2.0.1984.days_p05.nc\n",
      "Clipped dataset saved to C:\\Users\\gaurav.fouzdar\\New folder\\chirps-v2.0.1985.days_p05.nc\n",
      "Clipped dataset saved to C:\\Users\\gaurav.fouzdar\\New folder\\chirps-v2.0.1986.days_p05.nc\n",
      "Clipped dataset saved to C:\\Users\\gaurav.fouzdar\\New folder\\chirps-v2.0.1987.days_p05.nc\n",
      "Clipped dataset saved to C:\\Users\\gaurav.fouzdar\\New folder\\chirps-v2.0.1988.days_p05.nc\n",
      "Clipped dataset saved to C:\\Users\\gaurav.fouzdar\\New folder\\chirps-v2.0.1989.days_p05.nc\n",
      "Clipped dataset saved to C:\\Users\\gaurav.fouzdar\\New folder\\chirps-v2.0.1990.days_p05.nc\n",
      "Clipped dataset saved to C:\\Users\\gaurav.fouzdar\\New folder\\chirps-v2.0.1991.days_p05.nc\n",
      "Clipped dataset saved to C:\\Users\\gaurav.fouzdar\\New folder\\chirps-v2.0.1992.days_p05.nc\n",
      "Clipped dataset saved to C:\\Users\\gaurav.fouzdar\\New folder\\chirps-v2.0.1993.days_p05.nc\n",
      "Clipped dataset saved to C:\\Users\\gaurav.fouzdar\\New folder\\chirps-v2.0.1994.days_p05.nc\n",
      "Clipped dataset saved to C:\\Users\\gaurav.fouzdar\\New folder\\chirps-v2.0.1995.days_p05.nc\n",
      "Clipped dataset saved to C:\\Users\\gaurav.fouzdar\\New folder\\chirps-v2.0.1996.days_p05.nc\n",
      "Clipped dataset saved to C:\\Users\\gaurav.fouzdar\\New folder\\chirps-v2.0.1997.days_p05.nc\n",
      "Clipped dataset saved to C:\\Users\\gaurav.fouzdar\\New folder\\chirps-v2.0.1998.days_p05.nc\n",
      "Clipped dataset saved to C:\\Users\\gaurav.fouzdar\\New folder\\chirps-v2.0.1999.days_p05.nc\n",
      "Clipped dataset saved to C:\\Users\\gaurav.fouzdar\\New folder\\chirps-v2.0.2000.days_p05.nc\n",
      "Clipped dataset saved to C:\\Users\\gaurav.fouzdar\\New folder\\chirps-v2.0.2001.days_p05.nc\n",
      "Clipped dataset saved to C:\\Users\\gaurav.fouzdar\\New folder\\chirps-v2.0.2002.days_p05.nc\n",
      "Clipped dataset saved to C:\\Users\\gaurav.fouzdar\\New folder\\chirps-v2.0.2003.days_p05.nc\n",
      "Clipped dataset saved to C:\\Users\\gaurav.fouzdar\\New folder\\chirps-v2.0.2004.days_p05.nc\n",
      "Clipped dataset saved to C:\\Users\\gaurav.fouzdar\\New folder\\chirps-v2.0.2005.days_p05.nc\n",
      "Clipped dataset saved to C:\\Users\\gaurav.fouzdar\\New folder\\chirps-v2.0.2006.days_p05.nc\n",
      "Clipped dataset saved to C:\\Users\\gaurav.fouzdar\\New folder\\chirps-v2.0.2007.days_p05.nc\n",
      "Clipped dataset saved to C:\\Users\\gaurav.fouzdar\\New folder\\chirps-v2.0.2008.days_p05.nc\n",
      "Clipped dataset saved to C:\\Users\\gaurav.fouzdar\\New folder\\chirps-v2.0.2009.days_p05.nc\n",
      "Clipped dataset saved to C:\\Users\\gaurav.fouzdar\\New folder\\chirps-v2.0.2010.days_p05.nc\n",
      "Clipped dataset saved to C:\\Users\\gaurav.fouzdar\\New folder\\chirps-v2.0.2011.days_p05.nc\n",
      "Clipped dataset saved to C:\\Users\\gaurav.fouzdar\\New folder\\chirps-v2.0.2012.days_p05.nc\n",
      "Clipped dataset saved to C:\\Users\\gaurav.fouzdar\\New folder\\chirps-v2.0.2013.days_p05.nc\n",
      "Clipped dataset saved to C:\\Users\\gaurav.fouzdar\\New folder\\chirps-v2.0.2014.days_p05.nc\n",
      "Clipped dataset saved to C:\\Users\\gaurav.fouzdar\\New folder\\chirps-v2.0.2015.days_p05.nc\n",
      "Clipped dataset saved to C:\\Users\\gaurav.fouzdar\\New folder\\chirps-v2.0.2016.days_p05.nc\n",
      "Clipped dataset saved to C:\\Users\\gaurav.fouzdar\\New folder\\chirps-v2.0.2017.days_p05.nc\n",
      "Clipped dataset saved to C:\\Users\\gaurav.fouzdar\\New folder\\chirps-v2.0.2018.days_p05.nc\n",
      "Clipped dataset saved to C:\\Users\\gaurav.fouzdar\\New folder\\chirps-v2.0.2019.days_p05.nc\n",
      "Clipped dataset saved to C:\\Users\\gaurav.fouzdar\\New folder\\chirps-v2.0.2020.days_p05.nc\n",
      "Clipped dataset saved to C:\\Users\\gaurav.fouzdar\\New folder\\chirps-v2.0.2021.days_p05.nc\n",
      "Clipped dataset saved to C:\\Users\\gaurav.fouzdar\\New folder\\chirps-v2.0.2022.days_p05.nc\n",
      "Clipped dataset saved to C:\\Users\\gaurav.fouzdar\\New folder\\chirps-v2.0.2023.days_p05.nc\n"
     ]
    }
   ],
   "source": [
    "import os\n",
    "import xarray as xr\n",
    "\n",
    "# Define the extent (latitude and longitude bounds)\n",
    "min_lat, max_lat = -4.485133281288753,34.20869846477771  # replace with your latitude bounds\n",
    "min_lon, max_lon = 22.40604656975021,40.71085690395496  # replace with your longitude bounds\n",
    "\n",
    "# Define the directory containing the original NetCDF files\n",
    "nc_directory = r'D:\\Time series'\n",
    "\n",
    "# Define the directory where the clipped NetCDF files will be saved\n",
    "clipped_nc_directory = r'C:\\Users\\gaurav.fouzdar\\New folder'\n",
    "os.makedirs(clipped_nc_directory, exist_ok=True)\n",
    "\n",
    "# List all NetCDF files in the directory\n",
    "nc_files = [os.path.join(nc_directory, f) for f in os.listdir(nc_directory) if f.endswith('.nc')]\n",
    "\n",
    "# Process each NetCDF file\n",
    "for nc_file in nc_files:\n",
    "    try:\n",
    "        # Load the NetCDF file with chunking\n",
    "        ds = xr.open_dataset(nc_file, chunks={'time': 12})  # Adjust chunk size as needed\n",
    "\n",
    "        # Clip the dataset by the latitude and longitude extent\n",
    "        clipped_ds = ds.sel(latitude=slice(min_lat, max_lat), longitude=slice(min_lon, max_lon))\n",
    "\n",
    "        # Define the path for the clipped NetCDF file\n",
    "        clipped_nc_file = os.path.join(clipped_nc_directory, os.path.basename(nc_file))\n",
    "\n",
    "        # Save the clipped dataset to a new NetCDF file\n",
    "        clipped_ds.to_netcdf(clipped_nc_file)\n",
    "\n",
    "        print(f\"Clipped dataset saved to {clipped_nc_file}\")\n",
    "\n",
    "    except Exception as e:\n",
    "        print(f\"An error occurred while processing {nc_file}: {e}\")"
   ]
  },
  {
   "cell_type": "code",
   "execution_count": 2,
   "id": "52efd42f-aeb4-4a35-b346-cfa84e403c71",
   "metadata": {},
   "outputs": [
    {
     "name": "stdout",
     "output_type": "stream",
     "text": [
      "Combined dataset saved to C:\\Users\\gaurav.fouzdar\\combined_rainfall_new.nc\n"
     ]
    }
   ],
   "source": [
    "import xarray as xr\n",
    "import os\n",
    "\n",
    "# Define the directory containing the yearly NetCDF files\n",
    "nc_directory = r'C:\\Users\\gaurav.fouzdar\\New folder'\n",
    "\n",
    "# Create a list of all NetCDF files in the directory\n",
    "nc_files = [os.path.join(nc_directory, f) for f in os.listdir(nc_directory) if f.endswith('.nc')]\n",
    "\n",
    "# Combine the NetCDF files into a single dataset\n",
    "combined_ds = xr.open_mfdataset(nc_files, combine='by_coords', chunks={'time': 365})\n",
    "\n",
    "# Save the combined dataset to a new NetCDF file\n",
    "combined_netcdf_path = r'C:\\Users\\gaurav.fouzdar\\combined_rainfall_new.nc'\n",
    "combined_ds.to_netcdf(combined_netcdf_path)\n",
    "\n",
    "print(f\"Combined dataset saved to {combined_netcdf_path}\")\n"
   ]
  }
 ],
 "metadata": {
  "kernelspec": {
   "display_name": "Python 3 (ipykernel)",
   "language": "python",
   "name": "python3"
  },
  "language_info": {
   "codemirror_mode": {
    "name": "ipython",
    "version": 3
   },
   "file_extension": ".py",
   "mimetype": "text/x-python",
   "name": "python",
   "nbconvert_exporter": "python",
   "pygments_lexer": "ipython3",
   "version": "3.11.7"
  }
 },
 "nbformat": 4,
 "nbformat_minor": 5
}
